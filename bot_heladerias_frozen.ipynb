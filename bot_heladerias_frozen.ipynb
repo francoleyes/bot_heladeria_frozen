{
 "cells": [
  {
   "cell_type": "code",
   "execution_count": 1,
   "id": "e9d2e677",
   "metadata": {},
   "outputs": [],
   "source": [
    "import pandas as pd\n",
    "\n",
    "# Ejercicio 1\n",
    "class GeoAPI:\n",
    "    API_KEY = \"d81015613923e3e435231f2740d5610b\"\n",
    "    LAT = \"-35.836948753554054\"\n",
    "    LON = \"-61.870523905384076\"\n",
    "\n",
    "    @classmethod\n",
    "    def is_hot_in_pehuajo(cls):\n",
    "        try:\n",
    "            url = f\"https://api.openweathermap.org/data/2.5/weather?lat={cls.LAT}&lon={cls.LON}&appid={cls.API_KEY}&units=metric\"\n",
    "            response = requests.get(url)\n",
    "            response.raise_for_status()\n",
    "            data = response.json()\n",
    "            temperature = data[\"main\"][\"temp\"]\n",
    "            return temperature > 28\n",
    "        except requests.exceptions.RequestException:\n",
    "            return False\n"
   ]
  },
  {
   "cell_type": "code",
   "execution_count": 2,
   "id": "7d577d6d",
   "metadata": {},
   "outputs": [
    {
     "data": {
      "text/plain": [
       "False"
      ]
     },
     "execution_count": 2,
     "metadata": {},
     "output_type": "execute_result"
    }
   ],
   "source": [
    "GeoAPI.is_hot_in_pehuajo()"
   ]
  },
  {
   "cell_type": "code",
   "execution_count": 3,
   "id": "ba9cd9e2",
   "metadata": {},
   "outputs": [],
   "source": [
    "_PRODUCT_DF = pd.DataFrame({\"product_name\": [\"Chocolate\", \"Granizado\", \"Limon\", \"Dulce de Leche\"], \"quantity\": [3, 10, 0, 5]})\n",
    "\n",
    "# Ejercicio 2.1\n",
    "def is_product_available(product_name, quantity):\n",
    "    product_row = _PRODUCT_DF[_PRODUCT_DF[\"product_name\"] == product_name]\n",
    "    if not product_row.empty and product_row[\"quantity\"].iloc[0] >= quantity:\n",
    "        return True\n",
    "    else:\n",
    "        return False\n"
   ]
  },
  {
   "cell_type": "code",
   "execution_count": 4,
   "id": "1831f122",
   "metadata": {},
   "outputs": [
    {
     "data": {
      "text/plain": [
       "True"
      ]
     },
     "execution_count": 4,
     "metadata": {},
     "output_type": "execute_result"
    }
   ],
   "source": [
    "is_product_available(\"Dulce de Leche\", 4)"
   ]
  },
  {
   "cell_type": "code",
   "execution_count": 5,
   "id": "223d9b9a",
   "metadata": {},
   "outputs": [
    {
     "data": {
      "text/plain": [
       "False"
      ]
     },
     "execution_count": 5,
     "metadata": {},
     "output_type": "execute_result"
    }
   ],
   "source": [
    "is_product_available(\"Limon\", 2)"
   ]
  },
  {
   "cell_type": "code",
   "execution_count": 6,
   "id": "0fee6b6e",
   "metadata": {},
   "outputs": [],
   "source": [
    "# Ejercicio 2.2\n",
    "def is_product_available(product_name, quantity):\n",
    "    max_attempts = 3\n",
    "    attempt = 1\n",
    "\n",
    "    while attempt <= max_attempts:\n",
    "        product_row = _PRODUCT_DF[_PRODUCT_DF[\"product_name\"] == product_name]\n",
    "\n",
    "        if product_row.empty:\n",
    "            print(\"Producto inválido.\")\n",
    "            \n",
    "        else:\n",
    "            try:\n",
    "                quantity = int(quantity)\n",
    "                if quantity <= 0:\n",
    "                    print(\"No puede llevar un producto con cantidad menor o igual a 0.\")\n",
    "                    \n",
    "                elif product_row[\"quantity\"].iloc[0] >= quantity:\n",
    "                    return True\n",
    "                \n",
    "                else:\n",
    "                    print(\"No hay suficiente stock.\")\n",
    "                    \n",
    "            except ValueError:\n",
    "                print(\"La cantidad debe ser un número entero.\")\n",
    "        \n",
    "        print(f\"Intento {attempt}/{max_attempts}\")\n",
    "        \n",
    "        if attempt < max_attempts:\n",
    "            attempt += 1\n",
    "\n",
    "            print(\"\\nProductos disponibles y sus cantidades:\")\n",
    "            print(_PRODUCT_DF)\n",
    "\n",
    "            product_name = input(\"Ingrese otro producto: \")\n",
    "            quantity = input(\"Ingrese la cantidad requerida: \")\n",
    "\n",
    "        else:\n",
    "            return False\n"
   ]
  },
  {
   "cell_type": "code",
   "execution_count": 7,
   "id": "52b9ceb9",
   "metadata": {},
   "outputs": [
    {
     "name": "stdout",
     "output_type": "stream",
     "text": [
      "No hay suficiente stock.\n",
      "Intento 1/3\n",
      "\n",
      "Productos disponibles y sus cantidades:\n",
      "     product_name  quantity\n",
      "0       Chocolate         3\n",
      "1       Granizado        10\n",
      "2           Limon         0\n",
      "3  Dulce de Leche         5\n",
      "Ingrese otro producto: Granizado\n",
      "Ingrese la cantidad requerida: 25\n",
      "No hay suficiente stock.\n",
      "Intento 2/3\n",
      "\n",
      "Productos disponibles y sus cantidades:\n",
      "     product_name  quantity\n",
      "0       Chocolate         3\n",
      "1       Granizado        10\n",
      "2           Limon         0\n",
      "3  Dulce de Leche         5\n",
      "Ingrese otro producto: Limon\n",
      "Ingrese la cantidad requerida: 1.5\n",
      "La cantidad debe ser un número entero.\n",
      "Intento 3/3\n"
     ]
    },
    {
     "data": {
      "text/plain": [
       "False"
      ]
     },
     "execution_count": 7,
     "metadata": {},
     "output_type": "execute_result"
    }
   ],
   "source": [
    "is_product_available(\"Chocolate\",5)"
   ]
  },
  {
   "cell_type": "code",
   "execution_count": 8,
   "id": "fd4e3970",
   "metadata": {},
   "outputs": [],
   "source": [
    "_AVAILABLE_DISCOUNT_CODES = [\"Primavera2021\", \"Verano2021\", \"Navidad2x1\", \"heladoFrozen\"]\n",
    "\n",
    "# Ejercicio 3\n",
    "def validate_discount_code(discount_code):\n",
    "    for available_code in _AVAILABLE_DISCOUNT_CODES:\n",
    "        difference = len(set(discount_code).symmetric_difference(available_code))\n",
    "        if difference < 3:\n",
    "            return True\n",
    "\n",
    "    return False\n"
   ]
  },
  {
   "cell_type": "code",
   "execution_count": 9,
   "id": "b963400b",
   "metadata": {
    "scrolled": true
   },
   "outputs": [
    {
     "data": {
      "text/plain": [
       "True"
      ]
     },
     "execution_count": 9,
     "metadata": {},
     "output_type": "execute_result"
    }
   ],
   "source": [
    "validate_discount_code(\"primavera2021\")"
   ]
  },
  {
   "cell_type": "code",
   "execution_count": 11,
   "id": "b85594b7",
   "metadata": {},
   "outputs": [
    {
     "data": {
      "text/plain": [
       "False"
      ]
     },
     "execution_count": 11,
     "metadata": {},
     "output_type": "execute_result"
    }
   ],
   "source": [
    "validate_discount_code(\"primavera2021b\")"
   ]
  }
 ],
 "metadata": {
  "kernelspec": {
   "display_name": "Python 3 (ipykernel)",
   "language": "python",
   "name": "python3"
  },
  "language_info": {
   "codemirror_mode": {
    "name": "ipython",
    "version": 3
   },
   "file_extension": ".py",
   "mimetype": "text/x-python",
   "name": "python",
   "nbconvert_exporter": "python",
   "pygments_lexer": "ipython3",
   "version": "3.9.13"
  }
 },
 "nbformat": 4,
 "nbformat_minor": 5
}
